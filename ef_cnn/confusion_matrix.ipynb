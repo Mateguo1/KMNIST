{
 "cells": [
  {
   "cell_type": "code",
   "execution_count": null,
   "metadata": {},
   "outputs": [],
   "source": [
    "import numpy\n",
    "from matplotlib import pyplot as plt\n",
    "from sklearn.metrics import confusion_matrix, accuracy_score, ConfusionMatrixDisplay\n",
    "y_true = numpy.loadtxt('test_label.txt', dtype=int, delimiter=',')\n",
    "y_pred_mb3 = numpy.loadtxt('./test/mobilenet_pred_result.txt', dtype=int, delimiter=',') \n",
    "mb3 = confusion_matrix(y_true, y_pred_mb3)\n",
    "print(\"Confusion matrix of mobilenetV3:\")\n",
    "print(mb3)\n",
    "print(\"Accuracy: \", accuracy_score(y_true, y_pred_mb3))\n",
    "disp = ConfusionMatrixDisplay(confusion_matrix = mb3)\n",
    "disp.plot(\n",
    "    include_values=True,            \n",
    "    cmap=\"viridis\",                 \n",
    "    ax=None,                        \n",
    "    xticks_rotation=\"horizontal\",   \n",
    "    values_format=\"d\"               \n",
    ")\n",
    "plt.show()"
   ]
  },
  {
   "cell_type": "code",
   "execution_count": null,
   "metadata": {},
   "outputs": [],
   "source": [
    "y_pred_mb = numpy.loadtxt('./test/mobileViT_pred_result.txt', dtype=int, delimiter=',')\n",
    "mb = confusion_matrix(y_true, y_pred_mb)\n",
    "print(\"Confusion matrix of mobileVit:\")\n",
    "print(mb)\n",
    "print(\"Accuracy: \", accuracy_score(y_true, y_pred_mb))\n",
    "disp = ConfusionMatrixDisplay(confusion_matrix = mb)\n",
    "disp.plot(\n",
    "    include_values=True,            \n",
    "    cmap=\"viridis\",                 \n",
    "    ax=None,                        \n",
    "    xticks_rotation=\"horizontal\",   \n",
    "    values_format=\"d\"               \n",
    ")\n",
    "plt.show()"
   ]
  },
  {
   "cell_type": "code",
   "execution_count": null,
   "metadata": {},
   "outputs": [],
   "source": [
    "y_pred_vit = numpy.loadtxt('./test/ghostViT_pred_result.txt', dtype=int, delimiter=',')\n",
    "vit = confusion_matrix(y_true, y_pred_vit)\n",
    "print(\"Confusion matrix of GhostVit:\")\n",
    "print(vit)\n",
    "print(\"Accuracy: \", accuracy_score(y_true, y_pred_vit))\n",
    "disp = ConfusionMatrixDisplay(confusion_matrix = vit)\n",
    "disp.plot(\n",
    "    include_values=True,            \n",
    "    cmap=\"viridis\",                 \n",
    "    ax=None,                        \n",
    "    xticks_rotation=\"horizontal\",   \n",
    "    values_format=\"d\"               \n",
    ")\n",
    "plt.show()"
   ]
  }
 ],
 "metadata": {
  "kernelspec": {
   "display_name": "Python 3.x",
   "language": "python",
   "name": "python3"
  },
  "language_info": {
   "name": "python",
   "version": "3"
  },
  "orig_nbformat": 4,
  "vscode": {
   "interpreter": {
    "hash": "31f2aee4e71d21fbe5cf8b01ff0e069b9275f58929596ceb00d14d90e3e16cd6"
   }
  }
 },
 "nbformat": 4,
 "nbformat_minor": 2
}
